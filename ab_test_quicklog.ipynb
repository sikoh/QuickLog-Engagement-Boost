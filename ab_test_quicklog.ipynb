{
 "cells": [
  {
   "cell_type": "code",
   "execution_count": null,
   "metadata": {},
   "outputs": [],
   "source": [
    "# import libraries\n",
    "import pandas as pd\n",
    "import numpy as np\n",
    "from scipy import stats"
   ]
  },
  {
   "cell_type": "code",
   "execution_count": null,
   "metadata": {},
   "outputs": [],
   "source": [
    "# Read the CSV file\n",
    "df = pd.read_csv('fittrack_data.csv')"
   ]
  },
  {
   "cell_type": "code",
   "execution_count": null,
   "metadata": {},
   "outputs": [],
   "source": [
    "# Convert Date to datetime\n",
    "df['Date'] = pd.to_datetime(df['Date'])"
   ]
  },
  {
   "cell_type": "code",
   "execution_count": null,
   "metadata": {},
   "outputs": [],
   "source": [
    "# Group data by date and whether the user has QuickLog\n",
    "grouped = df.groupby(['Date', 'Has_QuickLog'])['Logged_Workout'].sum().unstack()"
   ]
  },
  {
   "cell_type": "code",
   "execution_count": null,
   "metadata": {},
   "outputs": [],
   "source": [
    "# Calculate daily active users for each group\n",
    "results_a = grouped[0]  # Control group (without QuickLog)\n",
    "results_b = grouped[1]  # Treatment group (with QuickLog)"
   ]
  },
  {
   "cell_type": "code",
   "execution_count": null,
   "metadata": {},
   "outputs": [],
   "source": [
    "# Calculate average daily active users\n",
    "avg_dau_a = np.mean(results_a)\n",
    "avg_dau_b = np.mean(results_b)\n",
    "\n",
    "print(f\"Average DAU for group A (without quick log): {avg_dau_a:.2f}\")\n",
    "print(f\"Average DAU for group B (with quick log): {avg_dau_b:.2f}\")"
   ]
  },
  {
   "cell_type": "code",
   "execution_count": null,
   "metadata": {},
   "outputs": [],
   "source": [
    "# Perform statistical test (t-test)\n",
    "t_statistic, p_value = stats.ttest_ind(results_a, results_b)\n",
    "\n",
    "print(f\"T-statistic: {t_statistic:.4f}\")\n",
    "print(f\"P-value: {p_value:.4f}\")"
   ]
  },
  {
   "cell_type": "code",
   "execution_count": null,
   "metadata": {},
   "outputs": [],
   "source": [
    "# Interpret results\n",
    "alpha = 0.05  # Significance level\n",
    "if p_value < alpha:\n",
    "    print(\"The difference is statistically significant.\")\n",
    "    if avg_dau_b > avg_dau_a:\n",
    "        print(\"The quick log button improved daily active users.\")\n",
    "    else:\n",
    "        print(\"The quick log button decreased daily active users.\")\n",
    "else:\n",
    "    print(\"The difference is not statistically significant.\")"
   ]
  },
  {
   "cell_type": "code",
   "execution_count": null,
   "metadata": {},
   "outputs": [],
   "source": [
    "# Calculate and print the percentage improvement\n",
    "percent_improvement = ((avg_dau_b - avg_dau_a) / avg_dau_a) * 100\n",
    "print(f\"Percentage improvement: {percent_improvement:.2f}%\")"
   ]
  }
 ],
 "metadata": {
  "language_info": {
   "name": "python"
  }
 },
 "nbformat": 4,
 "nbformat_minor": 2
}
